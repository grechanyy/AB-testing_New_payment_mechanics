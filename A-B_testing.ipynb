{
 "cells": [
  {
   "cell_type": "markdown",
   "metadata": {},
   "source": [
    "# Задание 1. A/B-тестирование"
   ]
  },
  {
   "cell_type": "markdown",
   "metadata": {},
   "source": [
    "Одной из основных задач аналитика в нашей команде является корректное проведение экспериментов.\n",
    "Для этого мы применяем метод A/B–тестирования. В ходе тестирования одной гипотезы целевой группе была предложена\n",
    "новая механика оплаты услуг на сайте, у контрольной группы оставалась базовая механика.\n",
    "В качестве задания Вам необходимо проанализировать итоги эксперимента и сделать вывод, \n",
    "стоит ли запускать новую механику оплаты на всех пользователей."
   ]
  },
  {
   "cell_type": "markdown",
   "metadata": {},
   "source": [
    "## 1.1 Импорт библиотек"
   ]
  },
  {
   "cell_type": "code",
   "execution_count": 12,
   "metadata": {},
   "outputs": [],
   "source": [
    "import pandas as pd\n",
    "import numpy as np\n",
    "import urllib.parse\n",
    "import requests\n",
    "\n",
    "import matplotlib.pyplot as plt\n",
    "import seaborn as sns\n",
    "import matplotlib.dates as mdates\n",
    "import plotly.express as px\n",
    "%matplotlib inline\n",
    "\n",
    "from scipy.stats import norm\n",
    "import scipy.stats as stats\n",
    "\n",
    "from tqdm.auto import tqdm"
   ]
  },
  {
   "cell_type": "markdown",
   "metadata": {},
   "source": [
    "## 1.2 Загрузка данных"
   ]
  },
  {
   "cell_type": "code",
   "execution_count": 13,
   "metadata": {},
   "outputs": [],
   "source": [
    "# загрузка данных из Яндекс.Диск\n",
    "url = 'https://cloud-api.yandex.net/v1/disk/public/resources/download?' \n",
    "pub_key_1 = 'https://yadi.sk/d/UhyYx41rTt3clQ'  \n",
    "pub_key_2 = 'https://yadi.sk/d/5Kxrz02m3IBUwQ' \n",
    "pub_key_3 = 'https://yadi.sk/d/Tbs44Bm6H_FwFQ' \n",
    "pub_key_4 = 'https://yadi.sk/d/pH1q-VqcxXjsVA' \n",
    "\n",
    "ready_url_1 = url + urllib.parse.urlencode(dict(public_key=pub_key_1)) \n",
    "response = requests.get(ready_url_1) \n",
    "download_url_1 = response.json()['href'] \n",
    "\n",
    "ready_url_2 = url + urllib.parse.urlencode(dict(public_key=pub_key_2)) \n",
    "response = requests.get(ready_url_2) \n",
    "download_url_2 = response.json()['href'] \n",
    "\n",
    "ready_url_3 = url + urllib.parse.urlencode(dict(public_key=pub_key_3)) \n",
    "response = requests.get(ready_url_3) \n",
    "download_url_3 = response.json()['href'] \n",
    "\n",
    "ready_url_4 = url + urllib.parse.urlencode(dict(public_key=pub_key_4)) \n",
    "response = requests.get(ready_url_4) \n",
    "download_url_4 = response.json()['href'] \n",
    "\n",
    "\n",
    "\n",
    "# загрузка данных в пандасовские датафреймы\n",
    "\n",
    "# файл с информацией о принадлежности пользователей \n",
    "# к контрольной или экспериментальной группе (А – контроль, B – целевая группа) \n",
    "groups = pd.read_csv(download_url_1, sep=';')\n",
    "\n",
    "# дополнительный файл с информацией о пользователях, который прислали 2 дня спустя\n",
    "groups_add = pd.read_csv(download_url_2, sep=',')\n",
    "\n",
    "#  файл с информацией о пользователях, которые зашли на платформу в дни проведения эксперимента\n",
    "active_studs = pd.read_csv(download_url_3, sep=';')\n",
    "\n",
    "# файл с информацией об оплатах пользователей в дни проведения эксперимента\n",
    "checks = pd.read_csv(download_url_4, sep = ';')"
   ]
  },
  {
   "cell_type": "code",
   "execution_count": 14,
   "metadata": {},
   "outputs": [],
   "source": [
    "# переименуем student_id в id для удобства\n",
    "active_studs = active_studs.rename(columns={'student_id': 'id'})\n",
    "checks = checks.rename(columns={'student_id': 'id'})"
   ]
  },
  {
   "cell_type": "markdown",
   "metadata": {},
   "source": [
    "## 1.3 Предобработка данных для статистических тестов"
   ]
  },
  {
   "cell_type": "code",
   "execution_count": 15,
   "metadata": {},
   "outputs": [],
   "source": [
    "# Смержим groups и active_studs. То есть тех, кто попал в эксперимент и посетил платформу во время эксперимента.\n",
    "union_active_groups = active_studs.merge(groups, how='inner', on='id')"
   ]
  },
  {
   "cell_type": "code",
   "execution_count": 16,
   "metadata": {},
   "outputs": [
    {
     "data": {
      "text/plain": [
       "(8328, 2)"
      ]
     },
     "execution_count": 16,
     "metadata": {},
     "output_type": "execute_result"
    }
   ],
   "source": [
    "union_active_groups.shape"
   ]
  },
  {
   "cell_type": "code",
   "execution_count": 17,
   "metadata": {},
   "outputs": [
    {
     "data": {
      "text/html": [
       "<div>\n",
       "<style scoped>\n",
       "    .dataframe tbody tr th:only-of-type {\n",
       "        vertical-align: middle;\n",
       "    }\n",
       "\n",
       "    .dataframe tbody tr th {\n",
       "        vertical-align: top;\n",
       "    }\n",
       "\n",
       "    .dataframe thead th {\n",
       "        text-align: right;\n",
       "    }\n",
       "</style>\n",
       "<table border=\"1\" class=\"dataframe\">\n",
       "  <thead>\n",
       "    <tr style=\"text-align: right;\">\n",
       "      <th></th>\n",
       "      <th>grp</th>\n",
       "      <th>id</th>\n",
       "    </tr>\n",
       "  </thead>\n",
       "  <tbody>\n",
       "    <tr>\n",
       "      <th>0</th>\n",
       "      <td>A</td>\n",
       "      <td>1535</td>\n",
       "    </tr>\n",
       "    <tr>\n",
       "      <th>1</th>\n",
       "      <td>B</td>\n",
       "      <td>6793</td>\n",
       "    </tr>\n",
       "  </tbody>\n",
       "</table>\n",
       "</div>"
      ],
      "text/plain": [
       "  grp    id\n",
       "0   A  1535\n",
       "1   B  6793"
      ]
     },
     "execution_count": 17,
     "metadata": {},
     "output_type": "execute_result"
    }
   ],
   "source": [
    "# Посмотрим количество пользователей в группах по отдельности.\n",
    "union_active_groups_ab = union_active_groups.groupby('grp', as_index=False).agg({'id': 'count'})\n",
    "union_active_groups_ab"
   ]
  },
  {
   "cell_type": "code",
   "execution_count": 18,
   "metadata": {},
   "outputs": [],
   "source": [
    "# Смержим union_active_groups и checks\n",
    "union_active_checks = union_active_groups.merge(checks, how='left', on='id')"
   ]
  },
  {
   "cell_type": "code",
   "execution_count": 19,
   "metadata": {},
   "outputs": [],
   "source": [
    "# в столбце rev заменим все NaN на нули \n",
    "union_active_checks['rev'] = union_active_checks['rev'].fillna(0)"
   ]
  },
  {
   "cell_type": "code",
   "execution_count": 20,
   "metadata": {},
   "outputs": [
    {
     "data": {
      "text/html": [
       "<div>\n",
       "<style scoped>\n",
       "    .dataframe tbody tr th:only-of-type {\n",
       "        vertical-align: middle;\n",
       "    }\n",
       "\n",
       "    .dataframe tbody tr th {\n",
       "        vertical-align: top;\n",
       "    }\n",
       "\n",
       "    .dataframe thead th {\n",
       "        text-align: right;\n",
       "    }\n",
       "</style>\n",
       "<table border=\"1\" class=\"dataframe\">\n",
       "  <thead>\n",
       "    <tr style=\"text-align: right;\">\n",
       "      <th></th>\n",
       "      <th>id</th>\n",
       "      <th>grp</th>\n",
       "      <th>rev</th>\n",
       "    </tr>\n",
       "  </thead>\n",
       "  <tbody>\n",
       "    <tr>\n",
       "      <th>0</th>\n",
       "      <td>581585</td>\n",
       "      <td>A</td>\n",
       "      <td>0.0</td>\n",
       "    </tr>\n",
       "    <tr>\n",
       "      <th>1</th>\n",
       "      <td>3276743</td>\n",
       "      <td>B</td>\n",
       "      <td>0.0</td>\n",
       "    </tr>\n",
       "    <tr>\n",
       "      <th>2</th>\n",
       "      <td>4238589</td>\n",
       "      <td>A</td>\n",
       "      <td>0.0</td>\n",
       "    </tr>\n",
       "    <tr>\n",
       "      <th>3</th>\n",
       "      <td>4475369</td>\n",
       "      <td>B</td>\n",
       "      <td>0.0</td>\n",
       "    </tr>\n",
       "    <tr>\n",
       "      <th>4</th>\n",
       "      <td>5481015</td>\n",
       "      <td>B</td>\n",
       "      <td>0.0</td>\n",
       "    </tr>\n",
       "  </tbody>\n",
       "</table>\n",
       "</div>"
      ],
      "text/plain": [
       "        id grp  rev\n",
       "0   581585   A  0.0\n",
       "1  3276743   B  0.0\n",
       "2  4238589   A  0.0\n",
       "3  4475369   B  0.0\n",
       "4  5481015   B  0.0"
      ]
     },
     "execution_count": 20,
     "metadata": {},
     "output_type": "execute_result"
    }
   ],
   "source": [
    "# получили датасет с информацией об активных студентах, которые заходили на сайт во время эксперимента, \n",
    "# при этом часть из них (rev > 0) в тестовой группе (В) увидели и воспользовались новой механикой оплаты\n",
    "union_active_checks.head()"
   ]
  },
  {
   "cell_type": "code",
   "execution_count": 21,
   "metadata": {},
   "outputs": [
    {
     "data": {
      "text/plain": [
       "(8328, 3)"
      ]
     },
     "execution_count": 21,
     "metadata": {},
     "output_type": "execute_result"
    }
   ],
   "source": [
    "union_active_checks.shape"
   ]
  },
  {
   "cell_type": "code",
   "execution_count": 22,
   "metadata": {},
   "outputs": [
    {
     "data": {
      "text/plain": [
       "(391, 3)"
      ]
     },
     "execution_count": 22,
     "metadata": {},
     "output_type": "execute_result"
    }
   ],
   "source": [
    "union_active_checks.query('rev > 0').shape"
   ]
  },
  {
   "cell_type": "markdown",
   "metadata": {},
   "source": [
    "Здесь нужно ввести оговорку.\n",
    "У нас в итоговом датасете union_active_checks вышло 391 заплативших студентов из обеих групп, в то время как в датасете checks, заплативших насчитывалось 541 человек. Объясняю эту разницу тем, что могла быть оплата с другой платформы или в данных произошла ошибка. Поэтому необходимо было оставить только посетивших сайт платников, потому как не посещавшие сайт пользователи не могли увидеть новую механику оплаты."
   ]
  },
  {
   "cell_type": "code",
   "execution_count": 23,
   "metadata": {},
   "outputs": [
    {
     "data": {
      "text/html": [
       "<div>\n",
       "<style scoped>\n",
       "    .dataframe tbody tr th:only-of-type {\n",
       "        vertical-align: middle;\n",
       "    }\n",
       "\n",
       "    .dataframe tbody tr th {\n",
       "        vertical-align: top;\n",
       "    }\n",
       "\n",
       "    .dataframe thead th {\n",
       "        text-align: right;\n",
       "    }\n",
       "</style>\n",
       "<table border=\"1\" class=\"dataframe\">\n",
       "  <thead>\n",
       "    <tr style=\"text-align: right;\">\n",
       "      <th></th>\n",
       "      <th>grp</th>\n",
       "      <th>id</th>\n",
       "    </tr>\n",
       "  </thead>\n",
       "  <tbody>\n",
       "    <tr>\n",
       "      <th>0</th>\n",
       "      <td>A</td>\n",
       "      <td>1535</td>\n",
       "    </tr>\n",
       "    <tr>\n",
       "      <th>1</th>\n",
       "      <td>B</td>\n",
       "      <td>6793</td>\n",
       "    </tr>\n",
       "  </tbody>\n",
       "</table>\n",
       "</div>"
      ],
      "text/plain": [
       "  grp    id\n",
       "0   A  1535\n",
       "1   B  6793"
      ]
     },
     "execution_count": 23,
     "metadata": {},
     "output_type": "execute_result"
    }
   ],
   "source": [
    "# посмотрим на количество студентов по группам А и В\n",
    "union_active_checks_ab = union_active_checks.groupby('grp', as_index=False).agg({'id': 'count'})\n",
    "union_active_checks_ab"
   ]
  },
  {
   "cell_type": "code",
   "execution_count": 24,
   "metadata": {},
   "outputs": [
    {
     "data": {
      "text/html": [
       "<div>\n",
       "<style scoped>\n",
       "    .dataframe tbody tr th:only-of-type {\n",
       "        vertical-align: middle;\n",
       "    }\n",
       "\n",
       "    .dataframe tbody tr th {\n",
       "        vertical-align: top;\n",
       "    }\n",
       "\n",
       "    .dataframe thead tr th {\n",
       "        text-align: left;\n",
       "    }\n",
       "\n",
       "    .dataframe thead tr:last-of-type th {\n",
       "        text-align: right;\n",
       "    }\n",
       "</style>\n",
       "<table border=\"1\" class=\"dataframe\">\n",
       "  <thead>\n",
       "    <tr>\n",
       "      <th></th>\n",
       "      <th colspan=\"8\" halign=\"left\">rev</th>\n",
       "    </tr>\n",
       "    <tr>\n",
       "      <th></th>\n",
       "      <th>count</th>\n",
       "      <th>mean</th>\n",
       "      <th>std</th>\n",
       "      <th>min</th>\n",
       "      <th>25%</th>\n",
       "      <th>50%</th>\n",
       "      <th>75%</th>\n",
       "      <th>max</th>\n",
       "    </tr>\n",
       "    <tr>\n",
       "      <th>grp</th>\n",
       "      <th></th>\n",
       "      <th></th>\n",
       "      <th></th>\n",
       "      <th></th>\n",
       "      <th></th>\n",
       "      <th></th>\n",
       "      <th></th>\n",
       "      <th></th>\n",
       "    </tr>\n",
       "  </thead>\n",
       "  <tbody>\n",
       "    <tr>\n",
       "      <th>A</th>\n",
       "      <td>78.0</td>\n",
       "      <td>933.589744</td>\n",
       "      <td>919.932711</td>\n",
       "      <td>199.0</td>\n",
       "      <td>290.0</td>\n",
       "      <td>585.0</td>\n",
       "      <td>1114.75</td>\n",
       "      <td>3660.0</td>\n",
       "    </tr>\n",
       "    <tr>\n",
       "      <th>B</th>\n",
       "      <td>313.0</td>\n",
       "      <td>1255.827487</td>\n",
       "      <td>791.293377</td>\n",
       "      <td>199.0</td>\n",
       "      <td>489.0</td>\n",
       "      <td>1140.0</td>\n",
       "      <td>1900.00</td>\n",
       "      <td>4650.0</td>\n",
       "    </tr>\n",
       "  </tbody>\n",
       "</table>\n",
       "</div>"
      ],
      "text/plain": [
       "       rev                                                                \n",
       "     count         mean         std    min    25%     50%      75%     max\n",
       "grp                                                                       \n",
       "A     78.0   933.589744  919.932711  199.0  290.0   585.0  1114.75  3660.0\n",
       "B    313.0  1255.827487  791.293377  199.0  489.0  1140.0  1900.00  4650.0"
      ]
     },
     "execution_count": 24,
     "metadata": {},
     "output_type": "execute_result"
    }
   ],
   "source": [
    "# посмотрим основные статистики среди заплативших в обеих группах\n",
    "df_only_check = union_active_checks.query('rev != 0')\n",
    "\n",
    "df_only_check[['rev', 'grp']].groupby(['grp']).describe()"
   ]
  },
  {
   "cell_type": "code",
   "execution_count": 25,
   "metadata": {},
   "outputs": [
    {
     "data": {
      "image/png": "[encoded data removed]",
      "text/plain": [
       "<Figure size 1296x1080 with 2 Axes>"
      ]
     },
     "metadata": {},
     "output_type": "display_data"
    }
   ],
   "source": [
    "# Визуализируем приведенные выше статистики \n",
    "ax = sns.set(font_scale=1.2, style=\"whitegrid\", rc={'figure.figsize': (18, 15)})\n",
    "plt.subplot(221)\n",
    "sns.boxplot(x='grp', y='rev', data=df_only_check)\n",
    "sns.despine()\n",
    "\n",
    "plt.subplot(222)\n",
    "ax = sns.histplot(data=df_only_check, x='rev', hue='grp', bins=40)\n",
    "ax.set_xlabel('Значение чеков')\n",
    "ax.set_ylabel('Количество наблюдение в группе')\n",
    "ax.set_title('Гистограмма распределения чеков')\n",
    "sns.despine()"
   ]
  },
  {
   "cell_type": "markdown",
   "metadata": {},
   "source": [
    "На диаграмме с боксплотами можно наблюдать выбросы в обеих группах. В тестовой группе видно более высокое медианное значение чеков и бОльший межквартельный размах. Распределения в обеих группах имеют явно не нормальное распределение, скошенное в левую сторону (проверять распределения на нормальность тестом Шапиро-Уилка не имеет смысла). \n",
    "Стоит присмотреться к чекам в тестовой группе (В), т.к. там большое количество чеков приходится на одно фиксированное значение."
   ]
  },
  {
   "cell_type": "code",
   "execution_count": 26,
   "metadata": {},
   "outputs": [
    {
     "data": {
      "text/plain": [
       "1900.0    127\n",
       "290.0      45\n",
       "199.0      27\n",
       "840.0      21\n",
       "990.0      17\n",
       "690.0      13\n",
       "1140.0      9\n",
       "398.0       6\n",
       "590.0       6\n",
       "580.0       5\n",
       "Name: rev, dtype: int64"
      ]
     },
     "execution_count": 26,
     "metadata": {},
     "output_type": "execute_result"
    }
   ],
   "source": [
    "# здесь мы видим большое количество чеков по 1900.\n",
    "df_only_check[df_only_check.grp == 'B'].rev.round(0).value_counts().head(10)"
   ]
  },
  {
   "cell_type": "markdown",
   "metadata": {},
   "source": [
    "Обе группы содержат много повторяющихся значений. Можно наблюдать значительную часть оплат с чеком 1900 (127 пользователей). \n",
    "Такой характер чеков в группах может говорить об абонетской плате на сайте (подписочный сервис) или об акции, проходящей в дни проведения эксперимента."
   ]
  },
  {
   "cell_type": "markdown",
   "metadata": {},
   "source": [
    "## 1.4 Определение метрик"
   ]
  },
  {
   "cell_type": "markdown",
   "metadata": {},
   "source": [
    "Определимся с метриками, по которые будем отслеживать в эксперименте.\n",
    "В нашем сервисе была предложена новая механика оплаты услуг на сайте, значит это повлияет на **конверсию в покупку** (СR). Именно эту метрику сделаем целевой в нашем эксперименте.\n",
    "\n",
    "Сопутствующей метрикой будет **средний чек** (AOV). Важно прослежить, чтобы эта метрика не снижалась."
   ]
  },
  {
   "cell_type": "markdown",
   "metadata": {},
   "source": [
    "## 1.5 Расчет метрик"
   ]
  },
  {
   "cell_type": "code",
   "execution_count": 27,
   "metadata": {},
   "outputs": [
    {
     "data": {
      "text/html": [
       "<div>\n",
       "<style scoped>\n",
       "    .dataframe tbody tr th:only-of-type {\n",
       "        vertical-align: middle;\n",
       "    }\n",
       "\n",
       "    .dataframe tbody tr th {\n",
       "        vertical-align: top;\n",
       "    }\n",
       "\n",
       "    .dataframe thead th {\n",
       "        text-align: right;\n",
       "    }\n",
       "</style>\n",
       "<table border=\"1\" class=\"dataframe\">\n",
       "  <thead>\n",
       "    <tr style=\"text-align: right;\">\n",
       "      <th></th>\n",
       "      <th>grp</th>\n",
       "      <th>converted_users</th>\n",
       "      <th>all_users</th>\n",
       "      <th>revenue</th>\n",
       "      <th>CR</th>\n",
       "      <th>AOV</th>\n",
       "    </tr>\n",
       "  </thead>\n",
       "  <tbody>\n",
       "    <tr>\n",
       "      <th>0</th>\n",
       "      <td>A</td>\n",
       "      <td>78.0</td>\n",
       "      <td>1535</td>\n",
       "      <td>72820.0000</td>\n",
       "      <td>0.050814</td>\n",
       "      <td>933.589744</td>\n",
       "    </tr>\n",
       "    <tr>\n",
       "      <th>1</th>\n",
       "      <td>B</td>\n",
       "      <td>313.0</td>\n",
       "      <td>6793</td>\n",
       "      <td>393074.0035</td>\n",
       "      <td>0.046077</td>\n",
       "      <td>1255.827487</td>\n",
       "    </tr>\n",
       "  </tbody>\n",
       "</table>\n",
       "</div>"
      ],
      "text/plain": [
       "  grp  converted_users  all_users      revenue        CR          AOV\n",
       "0   A             78.0       1535   72820.0000  0.050814   933.589744\n",
       "1   B            313.0       6793  393074.0035  0.046077  1255.827487"
      ]
     },
     "execution_count": 27,
     "metadata": {},
     "output_type": "execute_result"
    }
   ],
   "source": [
    "# агрегируем метрики в одном датасете по граппам А и В\n",
    "metrics_df = union_active_checks.groupby(['grp'], as_index=False).agg(\n",
    "    converted_users = ('rev', lambda x: x[x > 0].count()),\n",
    "    all_users = ('id', lambda x: len(x)),\n",
    "    revenue =  ('rev', lambda x: sum(x)))\n",
    "\n",
    "# расчитаем основную и сопутствующую метрики\n",
    "metrics_df['CR'] = metrics_df['converted_users'] / metrics_df['all_users']\n",
    "metrics_df['AOV'] = metrics_df['revenue'] / metrics_df['converted_users']\n",
    "\n",
    "metrics_df"
   ]
  },
  {
   "cell_type": "markdown",
   "metadata": {},
   "source": [
    "## 1.6 Проверка статистической значимости целевой метрики"
   ]
  },
  {
   "cell_type": "markdown",
   "metadata": {},
   "source": [
    "При сильных различиях численности групп, конверсия (CR) в контрольной и тестовой группах различаются не сильно. Чтобы проверить статистическую значимость данных различий, воспользуемся тестом Хи-квадрат, т.к. наши переменные являются категориальными."
   ]
  },
  {
   "cell_type": "markdown",
   "metadata": {},
   "source": [
    "## 1.6.1 Тест Хи-квадрат"
   ]
  },
  {
   "cell_type": "markdown",
   "metadata": {},
   "source": [
    "Требования для теста Хи-квадрат:\n",
    "    - Данные должны быть измерены в категориях или группах;\n",
    "    - Объем выборки должен быть достаточно большим (обычно не менее 30 наблюдений);\n",
    "    - Наблюдения должны быть независимы друг от друга;\n",
    "    - Ожидаемые частоты должны быть не менее 5 для каждой ячейки таблицы сопряженности."
   ]
  },
  {
   "cell_type": "code",
   "execution_count": 28,
   "metadata": {},
   "outputs": [
    {
     "data": {
      "text/html": [
       "<div>\n",
       "<style scoped>\n",
       "    .dataframe tbody tr th:only-of-type {\n",
       "        vertical-align: middle;\n",
       "    }\n",
       "\n",
       "    .dataframe tbody tr th {\n",
       "        vertical-align: top;\n",
       "    }\n",
       "\n",
       "    .dataframe thead th {\n",
       "        text-align: right;\n",
       "    }\n",
       "</style>\n",
       "<table border=\"1\" class=\"dataframe\">\n",
       "  <thead>\n",
       "    <tr style=\"text-align: right;\">\n",
       "      <th></th>\n",
       "      <th>all_users</th>\n",
       "      <th>converted_users</th>\n",
       "    </tr>\n",
       "    <tr>\n",
       "      <th>grp</th>\n",
       "      <th></th>\n",
       "      <th></th>\n",
       "    </tr>\n",
       "  </thead>\n",
       "  <tbody>\n",
       "    <tr>\n",
       "      <th>A</th>\n",
       "      <td>1535</td>\n",
       "      <td>78.0</td>\n",
       "    </tr>\n",
       "    <tr>\n",
       "      <th>B</th>\n",
       "      <td>6793</td>\n",
       "      <td>313.0</td>\n",
       "    </tr>\n",
       "  </tbody>\n",
       "</table>\n",
       "</div>"
      ],
      "text/plain": [
       "     all_users  converted_users\n",
       "grp                            \n",
       "A         1535             78.0\n",
       "B         6793            313.0"
      ]
     },
     "execution_count": 28,
     "metadata": {},
     "output_type": "execute_result"
    }
   ],
   "source": [
    "# из таблицы metrics_df возьмем нужные столбцы, чтобы получилась таблица сопряженности\n",
    "crosstab = metrics_df[['grp', 'all_users', 'converted_users']].set_index('grp')\n",
    "crosstab"
   ]
  },
  {
   "cell_type": "code",
   "execution_count": 29,
   "metadata": {},
   "outputs": [],
   "source": [
    "arr = np.array([[crosstab['all_users'][0], crosstab['converted_users'][0]], \n",
    "                [crosstab['all_users'][1], crosstab['converted_users'][1]]])"
   ]
  },
  {
   "cell_type": "markdown",
   "metadata": {},
   "source": [
    "Нулевая гипотеза (**H0**): Разницы между конверсией в покупку в тестовой и контрольной группе нет.\n",
    "\n",
    "Альтернативная гипотеза (**H1**): Разница между конверсией в покупку в тестовой и контрольной группе есть.\n",
    "\n",
    "С помощью statsmodels получим значение статистики и p-value.\n",
    "Уровень значимости: α = 0.05"
   ]
  },
  {
   "cell_type": "code",
   "execution_count": 30,
   "metadata": {},
   "outputs": [
    {
     "name": "stdout",
     "output_type": "stream",
     "text": [
      "p-value: 0.49\n"
     ]
    }
   ],
   "source": [
    "chi2 = stats.chi2_contingency(arr)\n",
    "\n",
    "print(f'p-value: {round(chi2[1], 2)}')"
   ]
  },
  {
   "cell_type": "markdown",
   "metadata": {},
   "source": [
    "ВЫВОД:\n",
    "По результатам теста p-value = 0.49, при пороговом значении 0.05. Таким образом, мы не имеем достаточных оснований, чтобы не отклонять нулевую гипотизу. В данном случае, падение конверсии в тестовой группе статистически  не значимо."
   ]
  },
  {
   "cell_type": "markdown",
   "metadata": {},
   "source": [
    "## 1.7 Проверка статистичемской значимости сопутствующей метрики"
   ]
  },
  {
   "cell_type": "markdown",
   "metadata": {},
   "source": [
    "Ранее уже отмечали, что чеки в контрольной и тестовой группах распределены не нормальным образом и с выбросами в данных. Таким образом, для оценки отличий в группах сравнивать среднее и медианы в t-test не рекомендуется.  \n",
    "Критерий mann-whitney также не стоит рассматривать, т.к. имеется большое количество повторяющихся значений и сам критерий проверяет гипотизу о равенстве рангов в группах. Будем использовать Бутстрап."
   ]
  },
  {
   "cell_type": "markdown",
   "metadata": {},
   "source": [
    "## 1.7.1 Бутсрап"
   ]
  },
  {
   "cell_type": "markdown",
   "metadata": {},
   "source": [
    "Проверим среднее значение в контрольной и тестовой группах на статзначимость.\n",
    "\n",
    "**H0**: разницы между средними значениями среднего чека двух групп нет;\n",
    "\n",
    "**H1**: разница между средними значениями есть."
   ]
  },
  {
   "cell_type": "code",
   "execution_count": 31,
   "metadata": {},
   "outputs": [],
   "source": [
    "def get_bootstrap(\n",
    "    data_column_1, # числовые значения первой выборки\n",
    "    data_column_2, # числовые значения второй выборки\n",
    "    boot_it = 10000, # количество бутстрэп-подвыборок\n",
    "    statistic = np.mean, # интересующая нас статистика\n",
    "    bootstrap_conf_level = 0.95 # уровень значимости\n",
    "):\n",
    "    boot_len = max([len(data_column_1), len(data_column_2)])\n",
    "    boot_data = []\n",
    "    for i in tqdm(range(boot_it)): # извлекаем подвыборки\n",
    "        samples_1 = data_column_1.sample(\n",
    "            boot_len, \n",
    "            replace = True # параметр возвращения\n",
    "        ).values\n",
    "        \n",
    "        samples_2 = data_column_2.sample(\n",
    "            boot_len, # чтобы сохранить дисперсию, берем такой же размер выборки\n",
    "            replace = True\n",
    "        ).values\n",
    "        \n",
    "        boot_data.append(statistic(samples_1-samples_2)) \n",
    "    pd_boot_data = pd.DataFrame(boot_data)\n",
    "        \n",
    "    left_quant = (1 - bootstrap_conf_level)/2\n",
    "    right_quant = 1 - (1 - bootstrap_conf_level) / 2\n",
    "    quants = pd_boot_data.quantile([left_quant, right_quant])\n",
    "        \n",
    "    p_1 = norm.cdf(\n",
    "        x = 0, \n",
    "        loc = np.mean(boot_data), \n",
    "        scale = np.std(boot_data)\n",
    "    )\n",
    "    p_2 = norm.cdf(\n",
    "        x = 0, \n",
    "        loc = -np.mean(boot_data), \n",
    "        scale = np.std(boot_data)\n",
    "    )\n",
    "    p_value = min(p_1, p_2) * 2\n",
    "        \n",
    "    # Визуализация\n",
    "    sns.set(font_scale=1.2, style=\"whitegrid\", rc={'figure.figsize': (9, 6)})\n",
    "    _, _, bars = plt.hist(pd_boot_data[0], bins = 50)\n",
    "    for bar in bars:\n",
    "        if abs(bar.get_x()) <= quants.iloc[0][0] or abs(bar.get_x()) >= quants.iloc[1][0]:\n",
    "            bar.set_facecolor('seagreen')\n",
    "        else: \n",
    "            bar.set_facecolor('grey')\n",
    "            bar.set_edgecolor('black')\n",
    "    \n",
    "    plt.style.use('ggplot')\n",
    "    plt.vlines(quants,ymin=0,ymax=50,linestyle='--')\n",
    "    plt.xlabel('boot_data')\n",
    "    plt.ylabel('frequency')\n",
    "    plt.title(\"Histogram of boot_data\")\n",
    "    plt.show()\n",
    "       \n",
    "    return {\"boot_data\": boot_data, \n",
    "            \"quants\": quants, \n",
    "            \"p_value\": p_value}"
   ]
  },
  {
   "cell_type": "code",
   "execution_count": 32,
   "metadata": {},
   "outputs": [],
   "source": [
    "# отберем числовые значения контрольной и тестовой групп\n",
    "sample_1 = df_only_check[df_only_check.grp == 'A'].rev\n",
    "sample_2 = df_only_check[df_only_check.grp == 'B'].rev"
   ]
  },
  {
   "cell_type": "code",
   "execution_count": 33,
   "metadata": {},
   "outputs": [
    {
     "data": {
      "application/vnd.jupyter.widget-view+json": {
       "model_id": "ede83322aac244d7902701cfbb703d59",
       "version_major": 2,
       "version_minor": 0
      },
      "text/plain": [
       "HBox(children=(FloatProgress(value=0.0, max=10000.0), HTML(value='')))"
      ]
     },
     "metadata": {},
     "output_type": "display_data"
    },
    {
     "name": "stdout",
     "output_type": "stream",
     "text": [
      "\n"
     ]
    },
    {
     "data": {
      "image/png": "[encoded data removed]",
      "text/plain": [
       "<Figure size 648x432 with 1 Axes>"
      ]
     },
     "metadata": {},
     "output_type": "display_data"
    },
    {
     "data": {
      "text/plain": [
       "1.971565883047141e-06"
      ]
     },
     "execution_count": 33,
     "metadata": {},
     "output_type": "execute_result"
    }
   ],
   "source": [
    "booted_data = get_bootstrap(sample_1, sample_2) # в результате хранится разница двух распределений, ДИ и pvalue\n",
    "booted_data['p_value']"
   ]
  },
  {
   "cell_type": "markdown",
   "metadata": {},
   "source": [
    "В получишемся Бутстрап-распределении p-value < 0,05 и 0 не входит в доверительный интервал. Можем сделать вывод, что средний чек по оценке средних в двух группах статистически отличается."
   ]
  },
  {
   "cell_type": "markdown",
   "metadata": {},
   "source": [
    "## Вывод:"
   ]
  },
  {
   "cell_type": "markdown",
   "metadata": {},
   "source": [
    "- Тестируя конверсию в покупку мы не смогли отклонить H0, примененный нами тест Хи-квадрат показал отсутствие различий между конверсиями в тестовой и контрольной группах;\n",
    "- Средний чек: примененный Бутстрам показал статистически значимое различие в проверке среднего чека;\n",
    "- Новая механика оплаты на сайте не повлияла на изменение целевой метрики, но было зафиксировано повышение среднего чека. Имея такие результаты эксперимента, можно заключить, что вводить новую механику оплаты не рекомендуется, т.к. на повышение среднего чека могли повлиять другие факторы.\n",
    "- Повышение среднего чека могло быть связано с акциями или рекомендуемыми товарами внутри корзины или параллельно запущенные эксперименты с внедрением новых фич на сайте. Особое внимание хочется уделить большому количеству чеков в размере 1900 в тестовой группе. Этот момент следует изучить глубже."
   ]
  },
  {
   "cell_type": "markdown",
   "metadata": {},
   "source": [
    "# Задание 2. Функции"
   ]
  },
  {
   "cell_type": "markdown",
   "metadata": {},
   "source": [
    "## 2.1 Функция пересчета метрик"
   ]
  },
  {
   "cell_type": "code",
   "execution_count": 34,
   "metadata": {},
   "outputs": [],
   "source": [
    "def recalculation(groups, groups_add, active_studs, checks):\n",
    "    \"\"\"соединение основного источника данных с дополнительным и пересчет основных метрик на основании доп. данных\"\"\"\n",
    "    data_concat = pd.concat([groups, groups_add], ignore_index=True)\n",
    "    \n",
    "    # меняем название столбцов, чтобы было по единому образцу во всех датафреймах\n",
    "    active_studs.rename(columns={'student_id' : 'id'}, inplace=True)\n",
    "    checks.rename(columns={'student_id' : 'id'}, inplace=True)\n",
    "   \n",
    "    # получаем пользователей, которые заходили на платформу во время эксперимента\n",
    "    union_active_groups = active_studs.merge(data_concat, how='inner', on='id')\n",
    "    union_active_checks = union_active_groups.merge(checks, how='left', on='id')\n",
    "    union_active_checks['rev'] = union_active_checks['rev'].fillna(0)\n",
    "\n",
    "    # считаем основные метрики\n",
    "    metrics_df = union_active_checks.groupby(['grp'], as_index=False).agg(\n",
    "    converted_users = ('rev', lambda x: x[x > 0].count()),\n",
    "    all_users = ('id', lambda x: len(x)),\n",
    "    revenue =  ('rev', lambda x: sum(x)))\n",
    "\n",
    "    metrics_df['CR'] = metrics_df['converted_users'] / metrics_df['all_users']\n",
    "    metrics_df['AOV'] = metrics_df['revenue'] / metrics_df['converted_users']\n",
    "    \n",
    "    return metrics_df"
   ]
  },
  {
   "cell_type": "code",
   "execution_count": 35,
   "metadata": {},
   "outputs": [
    {
     "data": {
      "text/html": [
       "<div>\n",
       "<style scoped>\n",
       "    .dataframe tbody tr th:only-of-type {\n",
       "        vertical-align: middle;\n",
       "    }\n",
       "\n",
       "    .dataframe tbody tr th {\n",
       "        vertical-align: top;\n",
       "    }\n",
       "\n",
       "    .dataframe thead th {\n",
       "        text-align: right;\n",
       "    }\n",
       "</style>\n",
       "<table border=\"1\" class=\"dataframe\">\n",
       "  <thead>\n",
       "    <tr style=\"text-align: right;\">\n",
       "      <th></th>\n",
       "      <th>grp</th>\n",
       "      <th>converted_users</th>\n",
       "      <th>all_users</th>\n",
       "      <th>revenue</th>\n",
       "      <th>CR</th>\n",
       "      <th>AOV</th>\n",
       "    </tr>\n",
       "  </thead>\n",
       "  <tbody>\n",
       "    <tr>\n",
       "      <th>0</th>\n",
       "      <td>A</td>\n",
       "      <td>78.0</td>\n",
       "      <td>1538</td>\n",
       "      <td>72820.0000</td>\n",
       "      <td>0.050715</td>\n",
       "      <td>933.589744</td>\n",
       "    </tr>\n",
       "    <tr>\n",
       "      <th>1</th>\n",
       "      <td>B</td>\n",
       "      <td>314.0</td>\n",
       "      <td>6803</td>\n",
       "      <td>394974.0035</td>\n",
       "      <td>0.046156</td>\n",
       "      <td>1257.878992</td>\n",
       "    </tr>\n",
       "  </tbody>\n",
       "</table>\n",
       "</div>"
      ],
      "text/plain": [
       "  grp  converted_users  all_users      revenue        CR          AOV\n",
       "0   A             78.0       1538   72820.0000  0.050715   933.589744\n",
       "1   B            314.0       6803  394974.0035  0.046156  1257.878992"
      ]
     },
     "execution_count": 35,
     "metadata": {},
     "output_type": "execute_result"
    }
   ],
   "source": [
    "recalculation(groups, groups_add, active_studs, checks)"
   ]
  },
  {
   "cell_type": "markdown",
   "metadata": {},
   "source": [
    "## 2.2 Функция визуализации метрик"
   ]
  },
  {
   "cell_type": "code",
   "execution_count": 36,
   "metadata": {},
   "outputs": [],
   "source": [
    "def viz_metrics(metrics_df):\n",
    "    \"\"\"визуализируем полученные метрики\"\"\"\n",
    "    sns.set(font_scale=1.2, style=\"whitegrid\", rc={'figure.figsize': (20, 15)})\n",
    "    plt.subplot(221)\n",
    "    plt.title('Конверсия в покупку')\n",
    "    sns.barplot(data=metrics_df, x='grp', y='CR',  palette='pastel')\n",
    "    plt.subplot(222)\n",
    "    plt.title('Средний чек')\n",
    "    sns.barplot(data=metrics_df, x='grp', y='AOV', palette='pastel')"
   ]
  },
  {
   "cell_type": "code",
   "execution_count": 37,
   "metadata": {},
   "outputs": [
    {
     "data": {
      "image/png": "[encoded data removed]",
      "text/plain": [
       "<Figure size 1440x1080 with 2 Axes>"
      ]
     },
     "metadata": {},
     "output_type": "display_data"
    }
   ],
   "source": [
    "viz_metrics(recalculation(groups, groups_add, active_studs, checks))"
   ]
  }
 ],
 "metadata": {
  "kernelspec": {
   "display_name": "Python 3",
   "language": "python",
   "name": "python3"
  },
  "language_info": {
   "codemirror_mode": {
    "name": "ipython",
    "version": 3
   },
   "file_extension": ".py",
   "mimetype": "text/x-python",
   "name": "python",
   "nbconvert_exporter": "python",
   "pygments_lexer": "ipython3",
   "version": "3.7.3"
  }
 },
 "nbformat": 4,
 "nbformat_minor": 4
}
